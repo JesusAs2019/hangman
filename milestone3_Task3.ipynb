{
  "nbformat": 4,
  "nbformat_minor": 0,
  "metadata": {
    "colab": {
      "provenance": [],
      "authorship_tag": "ABX9TyPMj2hI5HKSIYcVwGVhz/V7",
      "include_colab_link": true
    },
    "kernelspec": {
      "name": "python3",
      "display_name": "Python 3"
    },
    "language_info": {
      "name": "python"
    }
  },
  "cells": [
    {
      "cell_type": "markdown",
      "metadata": {
        "id": "view-in-github",
        "colab_type": "text"
      },
      "source": [
        "<a href=\"https://colab.research.google.com/github/JesusAs2019/hangman/blob/main/milestone3_Task3.ipynb\" target=\"_parent\"><img src=\"https://colab.research.google.com/assets/colab-badge.svg\" alt=\"Open In Colab\"/></a>"
      ]
    },
    {
      "cell_type": "code",
      "source": [
        "#Milestone 3: TASK 3\n",
        "import random\n",
        "\n",
        "def check_guess():\n",
        "    word_list = ['Apple', 'Banana', 'Orange', 'Mango', 'Pear']\n",
        "    word = random.choice(word_list)\n",
        "    guess =input(\"Enter a single letter: \").lower()\n",
        "    print(list(map(lambda x: x.lower(), word_list)))\n",
        "\n",
        "    if guess in word:\n",
        "       print(\"Good guess!\", {guess} , \"is in the word.\")\n",
        "       print(word)\n",
        "    else:\n",
        "      print(\"Sorry!\", {guess}, \"is not in the word. Try again.\")\n",
        "      return check_guess()\n",
        "def ask_for_input():\n",
        "\n",
        "    while True:\n",
        "         guess =input(\"Enter a single letter: \").lower()\n",
        "         guess_length = len(guess)\n",
        "         if guess_length == 1 and guess.isalpha():\n",
        "           print(guess_length)\n",
        "           print(guess)\n",
        "         else:\n",
        "            print(\"Invalid letter. Please, enter a single alphabetical character.\")\n",
        "         break\n",
        "         return check_guess()\n",
        "         return ask_for_input()\n",
        "         break"
      ],
      "metadata": {
        "id": "BCZaMdxe9Tri"
      },
      "execution_count": 1,
      "outputs": []
    },
    {
      "cell_type": "code",
      "source": [
        "ask_for_input()\n",
        "check_guess()"
      ],
      "metadata": {
        "id": "_ceO1n-49bDA"
      },
      "execution_count": null,
      "outputs": []
    }
  ]
}