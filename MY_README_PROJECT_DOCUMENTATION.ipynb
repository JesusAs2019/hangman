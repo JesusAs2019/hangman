{
  "nbformat": 4,
  "nbformat_minor": 0,
  "metadata": {
    "colab": {
      "provenance": [],
      "authorship_tag": "ABX9TyPNjXgZmvb61mo0oMBkodSd",
      "include_colab_link": true
    },
    "kernelspec": {
      "name": "python3",
      "display_name": "Python 3"
    },
    "language_info": {
      "name": "python"
    }
  },
  "cells": [
    {
      "cell_type": "markdown",
      "metadata": {
        "id": "view-in-github",
        "colab_type": "text"
      },
      "source": [
        "<a href=\"https://colab.research.google.com/github/JesusAs2019/hangman/blob/main/MY_README_PROJECT_DOCUMENTATION.ipynb\" target=\"_parent\"><img src=\"https://colab.research.google.com/assets/colab-badge.svg\" alt=\"Open In Colab\"/></a>"
      ]
    },
    {
      "cell_type": "code",
      "execution_count": null,
      "metadata": {
        "id": "nwTE1Zp0LmiF"
      },
      "outputs": [],
      "source": []
    },
    {
      "cell_type": "markdown",
      "source": [
        "[Table of Content](https://)\n",
        "\n",
        "\n",
        "1-  [Table of Contents](https://)\n",
        "\n",
        "2-\t[Project Title: HANGMAN](https://)\n",
        "\n",
        "3-\t[Summary](https://)\n",
        "\n",
        "4-\t[Description](https://)\n",
        "\n",
        "5-\t[Installations Instructions](https://)\n",
        "\n",
        "6-\t[Usage Instructions](https://)\n",
        "\n",
        "7-\t[File Structure of the Project](https://)\n",
        "\n",
        "8-\t[License Information](https://)\n",
        "\n",
        "\n",
        "\n",
        "\n",
        "\n",
        "\n",
        "\n",
        "\n",
        "\n",
        "\n",
        "\n",
        "\n",
        "\n",
        "[2- Project Title: HANGMAN](https://)\n",
        "\n",
        "\n",
        "\n",
        "\n",
        "\n",
        "\n",
        "\n",
        "\n",
        "\n",
        "\n",
        "\n",
        "3- [Summary](https://)\n",
        "Hangman is a familiar Python terminal word game in which one player guesses a word thought of by his contestant in guessing the letter in it within a fixed number of lives. This Project is an application of what we have learned so far using hangman game that involves two contestants: a user and the computer; where the computer randomly displays a word and the user attempts to guess it by choosing one of its letters. If the user runs out of lives without guessing the right word’s letter he lost.\n",
        "\n",
        "4- [Description](https://).\n",
        "This project is an attempt to test the learner skills on what they have learned in python programming course so far. Using everything learned previously, apply them on game design. Demonstrate skills apprehended on previous leaning, the acquired skills on variables, data types, strings, booleans, control flow, with the use of loops (while and for), functions and error handling. Knowing the python environment is vital, also the different operating Systems, the use of the different command lines such as prompt, git powerShell, file manipulation with editing and so on.\n",
        "This is a great opportunity to demonstrate, implement and build a fully functioning Hangman game code program using the different elements and objects we learned up to date - accordingly show off how Python Programming really is builds up from small pieces called objects. These objects, as little simple things that can be add\n",
        "together to build an intricate and complex design – So using these small things to build a fun Hangman game.\n",
        "The project is organized in milestone to test progressively learner skills\n",
        "Milestone 1_ It starts with the prerequisite lesson on the environment set up – on how to install on Git or VS Code using pip install command - how to set up the repository GitHub.\n",
        "Milestone 2_ Create the variables for the game and the prerequisite lessons covering all the aspect of Python basics: the use of Google Colab, on how to create variables, comments, numbers, strings Booleans and lists. Here is about variable creation and assign it a value – we work with a list of word, for input request and at the use of if-else condition.\n",
        "Milestone 3_ Is about prerequisite lessons on sets, tuples, dictionaries, Conda, pip and package managers - Understanding Imports in Python, For Loops, Iteration and Control Flow Trick, and the use of the functions how to create a function - working inside it, and call it at the end. Here we are challenged with the task1, 2 and 3 for use of iteration loops.\n",
        "Milestone 4_ The project task prerequisites involve dealing with the application of Error Handling with Control Flow, Context Managers, list Comprehensions, Defining Functions – Furthermore, here we deal with advanced skills on how to create a class on Object-Oriented Programming (OOP) and its Design principles, how to make comments using Docstrings syntax compare to comments style.\n",
        " Obviously, we have explored here the notion of classes in Python: class description and methods, and defined the three concepts: scope concerns and Namespace when dealing with OOP design - design is based on the concept of Intentional Design. It is the time to use constructor __init__ to initialize the attributes of the class Hangman. Code creation often involves the repeated use of the same algorithms. Thus, it is important to organise and pay attention to your code to save, avoid the common drawbacks with long lines reuse the same algorithm to increase code flexibility, also by incorporating placeholders in functions or methods.\n",
        "Milestone 5_ It is about putting all object things together and implement the play_game () function, where the class is called to create an occurrence of the game, which instantiate the user interaction.\n",
        "\n",
        "\n",
        "\n",
        "\n",
        "\n",
        "\n",
        "\n",
        "\n",
        "5- [Installations Instructions](https://)\n",
        "\n",
        "\n",
        "\n",
        "\n",
        "\n",
        "6- [Usage Instructions](https://)\n",
        "\n",
        "\n",
        "\n",
        "7- [File Structure of the Project](https://)\n",
        "\n",
        "Manipulating folders, files and repositories, and for any changes to make update process, from GitHub to VS Code and conversely. How to write documents using the text editor markdown on VS Code or on Google Colab, it was a great experience to discover with this course these power tools for code and text writing, editing, formatting and son on.\n",
        "\n",
        "8- [License Information](https://):\n",
        "Not available, as long it is not a protected project.\n"
      ],
      "metadata": {
        "id": "K4cOmkFCMP4U"
      }
    }
  ]
}