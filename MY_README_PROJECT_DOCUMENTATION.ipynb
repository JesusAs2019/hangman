{
  "nbformat": 4,
  "nbformat_minor": 0,
  "metadata": {
    "colab": {
      "provenance": [],
      "authorship_tag": "ABX9TyOz2cwWtidl5r04Rhl36STr",
      "include_colab_link": true
    },
    "kernelspec": {
      "name": "python3",
      "display_name": "Python 3"
    },
    "language_info": {
      "name": "python"
    }
  },
  "cells": [
    {
      "cell_type": "markdown",
      "metadata": {
        "id": "view-in-github",
        "colab_type": "text"
      },
      "source": [
        "<a href=\"https://colab.research.google.com/github/JesusAs2019/hangman/blob/main/MY_README_PROJECT_DOCUMENTATION.ipynb\" target=\"_parent\"><img src=\"https://colab.research.google.com/assets/colab-badge.svg\" alt=\"Open In Colab\"/></a>"
      ]
    },
    {
      "cell_type": "code",
      "execution_count": null,
      "metadata": {
        "id": "nwTE1Zp0LmiF"
      },
      "outputs": [],
      "source": []
    },
    {
      "cell_type": "markdown",
      "source": [
        "Table of Contents\n",
        "\n",
        "1-\tTable of Contents……………………………\n",
        "2-\tProject Title: HANGMAN…………………..\n",
        "3-\tSummary……………………………………….\n",
        "4-\tDescription………………………………………….\n",
        "5-\tInstallations Instructions……………………………\n",
        "6-\tUsage Instructions……………………………………\n",
        "7-\tFile Structure of the Project…………………………….\n",
        "8-\tLicense Information………………………………………..\n",
        "\n",
        "\n",
        "\n",
        "\n",
        "\n",
        "\n",
        "\n",
        "\n",
        "\n",
        "\n",
        "\n",
        "\n",
        "\n",
        "2- Project Title: HANGMAN\n",
        "\n",
        "\n",
        "\n",
        "\n",
        "\n",
        "\n",
        "\n",
        "\n",
        "\n",
        "3- Summary\n",
        "Hangman is a familiar word game in which one player guesses a word thought of by his contestant in guessing the letter (s) in it within a fixed number of lives. This Project is an application of what we have learned so far using hangman game that involves two contestants: a user and the computer; where the computer randomly displays a word and the user attempts to guess it by choosing one of its letters. If the user runs out of lives without guessing the right word he lost.\n",
        "\n",
        "4- Description.\n",
        "At the end of the previous modules, This project is an attempt to test the learn\n",
        "er ability to apply and demonstrate python programming skills apprehend at the end of the previous modules.\n",
        "\n",
        "The computer shows a sequence of dashes representing each letter of the word, along with a character as a starting point.\n",
        "\n",
        "\n",
        "\n",
        "\n",
        "5- Installations Instructions\n",
        "\n",
        "\n",
        "6- Usage Instructions\n",
        "\n",
        "\n",
        "\n",
        "7- File Structure of the Project\n",
        "\n",
        "\n",
        "8- License Information\n"
      ],
      "metadata": {
        "id": "K4cOmkFCMP4U"
      }
    }
  ]
}